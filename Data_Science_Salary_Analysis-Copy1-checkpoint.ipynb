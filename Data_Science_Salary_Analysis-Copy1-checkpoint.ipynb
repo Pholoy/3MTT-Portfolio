{
 "cells": [
  {
   "cell_type": "code",
   "execution_count": 1,
   "id": "cf891b47-bd73-4bfc-9610-b8a9dde364d7",
   "metadata": {},
   "outputs": [],
   "source": [
    "# Importing Pandas and every other libraries we will be using for this analysis\n",
    "# To use pandas, you first need to import it. It’s commonly imported with the alias pd:\n",
    "\n",
    "import pandas as pd\n",
    "import numpy as np\n",
    "import seaborn as sns\n",
    "from matplotlib import pyplot as plt\n",
    "\n",
    "%matplotlib inline"
   ]
  },
  {
   "cell_type": "code",
   "execution_count": 2,
   "id": "4ed35a2b-f9e3-4902-8544-d26e627677c3",
   "metadata": {},
   "outputs": [],
   "source": [
    "# Load dataset file (typically in .csv or .xlsx format)\n",
    "\n",
    "df = pd.read_csv(r\"C:\\Users\\Dell\\Desktop\\Python\\Juppython\\ds_salaries.csv\")"
   ]
  },
  {
   "cell_type": "code",
   "execution_count": 3,
   "id": "e8159892-3a63-4258-9eed-02e2a3aac6c8",
   "metadata": {},
   "outputs": [
    {
     "name": "stdout",
     "output_type": "stream",
     "text": [
      "Data Set Shape:  (607, 12)\n",
      "\n",
      "<class 'pandas.core.frame.DataFrame'>\n",
      "RangeIndex: 607 entries, 0 to 606\n",
      "Data columns (total 12 columns):\n",
      " #   Column              Non-Null Count  Dtype \n",
      "---  ------              --------------  ----- \n",
      " 0   Unnamed: 0          607 non-null    int64 \n",
      " 1   work_year           607 non-null    int64 \n",
      " 2   experience_level    607 non-null    object\n",
      " 3   employment_type     607 non-null    object\n",
      " 4   job_title           607 non-null    object\n",
      " 5   salary              607 non-null    int64 \n",
      " 6   salary_currency     607 non-null    object\n",
      " 7   salary_in_usd       607 non-null    int64 \n",
      " 8   employee_residence  607 non-null    object\n",
      " 9   remote_ratio        607 non-null    int64 \n",
      " 10  company_location    607 non-null    object\n",
      " 11  company_size        607 non-null    object\n",
      "dtypes: int64(5), object(7)\n",
      "memory usage: 57.0+ KB\n"
     ]
    }
   ],
   "source": [
    "# Inspect the data\n",
    "# To understand the structure and types of columns (e.g., salary, job title, etc.).\n",
    "\n",
    "print(\"Data Set Shape: \",df.shape)\n",
    "print()\n",
    "df.info()"
   ]
  },
  {
   "cell_type": "code",
   "execution_count": null,
   "id": "516b10e7-4b12-428e-88e3-4c71130912ac",
   "metadata": {},
   "outputs": [],
   "source": [
    "\n",
    "df"
   ]
  },
  {
   "cell_type": "code",
   "execution_count": null,
   "id": "bae77112-c536-4760-927c-f0d418722d2b",
   "metadata": {},
   "outputs": [],
   "source": [
    "# Feature descriptions:\n",
    "\n",
    "# Experience level:\n",
    "#   'SE': 'Senior',\n",
    "#     'MI': 'Mid',\n",
    "#     'EN': 'Entry',\n",
    "# 'EX': 'Executive'\n",
    "\n",
    "# Employment type:\n",
    "#  'FT': 'Full-time',\n",
    "#     'PT': 'Part-time',\n",
    "#     'CT': 'Contract',\n",
    "#     'FL': 'Freelance'\n",
    "\n",
    "# Company size:\n",
    "#  'S': 'Small',\n",
    "#     'M': 'Medium',\n",
    "#     'L': 'Large'"
   ]
  },
  {
   "cell_type": "code",
   "execution_count": null,
   "id": "5495786d-e82b-4378-9bcd-b313d4450edc",
   "metadata": {},
   "outputs": [],
   "source": [
    "# Display all rows\n",
    "pd.set_option(\"display.max_rows\", None)\n",
    "df\n",
    "\n",
    "# Revert to the default \n",
    "# pd.reset_option(\"display.max_rows\")\n"
   ]
  },
  {
   "cell_type": "code",
   "execution_count": 4,
   "id": "8cabf15b-6f7c-4230-8a16-482fc59a9395",
   "metadata": {},
   "outputs": [],
   "source": [
    "# Drop the unnecessary column\n",
    "\n",
    "df = df.drop(columns=['Unnamed: 0'])"
   ]
  },
  {
   "cell_type": "code",
   "execution_count": null,
   "id": "f53770f6-371e-4391-93c3-c1bda40305ba",
   "metadata": {},
   "outputs": [],
   "source": [
    "# # Axis 1 = Dropping a column (axis=1)\n",
    "# # Axis 0 = Dropping a row (axis=0)\n",
    "\n",
    "# df.drop('Unnamed: 0', axis=1)"
   ]
  },
  {
   "cell_type": "code",
   "execution_count": 5,
   "id": "53e39c78-85e4-4e70-bc30-5369381e6705",
   "metadata": {},
   "outputs": [
    {
     "name": "stdout",
     "output_type": "stream",
     "text": [
      "Data Set Shape:  (607, 11)\n",
      "\n",
      "<class 'pandas.core.frame.DataFrame'>\n",
      "RangeIndex: 607 entries, 0 to 606\n",
      "Data columns (total 11 columns):\n",
      " #   Column              Non-Null Count  Dtype \n",
      "---  ------              --------------  ----- \n",
      " 0   work_year           607 non-null    int64 \n",
      " 1   experience_level    607 non-null    object\n",
      " 2   employment_type     607 non-null    object\n",
      " 3   job_title           607 non-null    object\n",
      " 4   salary              607 non-null    int64 \n",
      " 5   salary_currency     607 non-null    object\n",
      " 6   salary_in_usd       607 non-null    int64 \n",
      " 7   employee_residence  607 non-null    object\n",
      " 8   remote_ratio        607 non-null    int64 \n",
      " 9   company_location    607 non-null    object\n",
      " 10  company_size        607 non-null    object\n",
      "dtypes: int64(4), object(7)\n",
      "memory usage: 52.3+ KB\n"
     ]
    }
   ],
   "source": [
    "# Inspect the data again after dropping the unnecessary column\n",
    "\n",
    "print(\"Data Set Shape: \",df.shape)\n",
    "print()\n",
    "df.info()"
   ]
  },
  {
   "cell_type": "code",
   "execution_count": null,
   "id": "8683a20c-9a71-4633-a519-3c4fcf691af2",
   "metadata": {},
   "outputs": [],
   "source": [
    "# Further inspection of the dataset\n",
    "df.describe()"
   ]
  },
  {
   "cell_type": "code",
   "execution_count": null,
   "id": "5c6e6ebc-a587-4e3e-8f94-9d234373495b",
   "metadata": {},
   "outputs": [],
   "source": [
    "# Check for missing values\n",
    "missing_values = df.isnull().sum()\n",
    "missing_values\n",
    "# print(df.isna().sum())"
   ]
  },
  {
   "cell_type": "code",
   "execution_count": null,
   "id": "11d0c279-2472-4640-b3f4-6cb2a0e9f3af",
   "metadata": {},
   "outputs": [],
   "source": [
    "# df.values\n",
    "# df.dtypes\n",
    "# df.columns"
   ]
  },
  {
   "cell_type": "code",
   "execution_count": 7,
   "id": "89683103-e9e9-48a9-bb26-8cc8983cac27",
   "metadata": {},
   "outputs": [
    {
     "data": {
      "text/plain": [
       "42"
      ]
     },
     "execution_count": 7,
     "metadata": {},
     "output_type": "execute_result"
    }
   ],
   "source": [
    "# Check if there duplicates in the rows\n",
    "\n",
    "df.duplicated().sum()"
   ]
  },
  {
   "cell_type": "code",
   "execution_count": 8,
   "id": "c8a78479-b5f7-44a0-aeb4-22dda2ccdc6c",
   "metadata": {},
   "outputs": [],
   "source": [
    "# Remove duplicated rows\n",
    "# Duplicates if not removed will lead to bias in our analysis.\n",
    "\n",
    "df = df.drop_duplicates()"
   ]
  },
  {
   "cell_type": "code",
   "execution_count": 9,
   "id": "6285ac67-2c25-4a63-9765-60ebd23d6426",
   "metadata": {},
   "outputs": [
    {
     "name": "stdout",
     "output_type": "stream",
     "text": [
      "Data Set Shape:  (565, 11)\n",
      "\n",
      "<class 'pandas.core.frame.DataFrame'>\n",
      "Index: 565 entries, 0 to 606\n",
      "Data columns (total 11 columns):\n",
      " #   Column              Non-Null Count  Dtype \n",
      "---  ------              --------------  ----- \n",
      " 0   work_year           565 non-null    int64 \n",
      " 1   experience_level    565 non-null    object\n",
      " 2   employment_type     565 non-null    object\n",
      " 3   job_title           565 non-null    object\n",
      " 4   salary              565 non-null    int64 \n",
      " 5   salary_currency     565 non-null    object\n",
      " 6   salary_in_usd       565 non-null    int64 \n",
      " 7   employee_residence  565 non-null    object\n",
      " 8   remote_ratio        565 non-null    int64 \n",
      " 9   company_location    565 non-null    object\n",
      " 10  company_size        565 non-null    object\n",
      "dtypes: int64(4), object(7)\n",
      "memory usage: 53.0+ KB\n"
     ]
    }
   ],
   "source": [
    "# Inspect the data again after removing the duplicated rows\n",
    "\n",
    "print(\"Data Set Shape: \",df.shape)\n",
    "print()\n",
    "df.info()"
   ]
  },
  {
   "cell_type": "code",
   "execution_count": null,
   "id": "8c269146-c03d-4eba-9690-e0da945b62b1",
   "metadata": {},
   "outputs": [],
   "source": [
    "# Display the first few rows to verify the change\n",
    "df.head()"
   ]
  },
  {
   "cell_type": "code",
   "execution_count": null,
   "id": "31117674-3274-4104-945a-1cc3d1b908a6",
   "metadata": {},
   "outputs": [],
   "source": [
    "# Feature descriptions:\n",
    "\n",
    "# Experience level:\n",
    "#   'SE': 'Senior',\n",
    "#     'MI': 'Mid',\n",
    "#     'EN': 'Entry',\n",
    "# 'EX': 'Executive'\n",
    "\n",
    "# Employment type:\n",
    "#  'FT': 'Full-time',\n",
    "#     'PT': 'Part-time',\n",
    "#     'CT': 'Contract',\n",
    "#     'FL': 'Freelance'\n",
    "\n",
    "# Company size:\n",
    "#  'S': 'Small',\n",
    "#     'M': 'Medium',\n",
    "#     'L': 'Large'"
   ]
  },
  {
   "cell_type": "code",
   "execution_count": 10,
   "id": "d2989c46-fcb8-4da3-aa17-ae4147e5d73d",
   "metadata": {},
   "outputs": [],
   "source": [
    "# Rename categorical columns for easy understanding using mapping\n",
    "\n",
    "experience_level_mapping = {'MI': 'Mid-Level', 'SE': 'Senior', 'EN': 'Entry', 'EX': 'Executive'}\n",
    "company_size_mapping = {'S': 'Small', 'M': 'Medium', 'L': 'Large'}\n",
    "employment_type_mapping = {'FT': 'Full-time', 'PT': 'Part-time', 'CT': 'Contract', 'FL': 'Freelance'}\n",
    "\n",
    "# df = df.copy()\n",
    "df['experience_level'] = df['experience_level'].map(experience_level_mapping)\n",
    "df['company_size'] = df['company_size'].map(company_size_mapping)\n",
    "df['employment_type'] = df['employment_type'].map(employment_type_mapping)"
   ]
  },
  {
   "cell_type": "code",
   "execution_count": 11,
   "id": "d335063a-ef96-4bea-a880-77cd78a07b56",
   "metadata": {},
   "outputs": [
    {
     "data": {
      "text/html": [
       "<div>\n",
       "<style scoped>\n",
       "    .dataframe tbody tr th:only-of-type {\n",
       "        vertical-align: middle;\n",
       "    }\n",
       "\n",
       "    .dataframe tbody tr th {\n",
       "        vertical-align: top;\n",
       "    }\n",
       "\n",
       "    .dataframe thead th {\n",
       "        text-align: right;\n",
       "    }\n",
       "</style>\n",
       "<table border=\"1\" class=\"dataframe\">\n",
       "  <thead>\n",
       "    <tr style=\"text-align: right;\">\n",
       "      <th></th>\n",
       "      <th>work_year</th>\n",
       "      <th>experience_level</th>\n",
       "      <th>employment_type</th>\n",
       "      <th>job_title</th>\n",
       "      <th>salary</th>\n",
       "      <th>salary_currency</th>\n",
       "      <th>salary_in_usd</th>\n",
       "      <th>employee_residence</th>\n",
       "      <th>remote_ratio</th>\n",
       "      <th>company_location</th>\n",
       "      <th>company_size</th>\n",
       "    </tr>\n",
       "  </thead>\n",
       "  <tbody>\n",
       "    <tr>\n",
       "      <th>0</th>\n",
       "      <td>2020</td>\n",
       "      <td>Mid-Level</td>\n",
       "      <td>Full-time</td>\n",
       "      <td>Data Scientist</td>\n",
       "      <td>70000</td>\n",
       "      <td>EUR</td>\n",
       "      <td>79833</td>\n",
       "      <td>DE</td>\n",
       "      <td>0</td>\n",
       "      <td>DE</td>\n",
       "      <td>Large</td>\n",
       "    </tr>\n",
       "    <tr>\n",
       "      <th>1</th>\n",
       "      <td>2020</td>\n",
       "      <td>Senior</td>\n",
       "      <td>Full-time</td>\n",
       "      <td>Machine Learning Scientist</td>\n",
       "      <td>260000</td>\n",
       "      <td>USD</td>\n",
       "      <td>260000</td>\n",
       "      <td>JP</td>\n",
       "      <td>0</td>\n",
       "      <td>JP</td>\n",
       "      <td>Small</td>\n",
       "    </tr>\n",
       "    <tr>\n",
       "      <th>2</th>\n",
       "      <td>2020</td>\n",
       "      <td>Senior</td>\n",
       "      <td>Full-time</td>\n",
       "      <td>Big Data Engineer</td>\n",
       "      <td>85000</td>\n",
       "      <td>GBP</td>\n",
       "      <td>109024</td>\n",
       "      <td>GB</td>\n",
       "      <td>50</td>\n",
       "      <td>GB</td>\n",
       "      <td>Medium</td>\n",
       "    </tr>\n",
       "  </tbody>\n",
       "</table>\n",
       "</div>"
      ],
      "text/plain": [
       "   work_year experience_level employment_type                   job_title  \\\n",
       "0       2020        Mid-Level       Full-time              Data Scientist   \n",
       "1       2020           Senior       Full-time  Machine Learning Scientist   \n",
       "2       2020           Senior       Full-time           Big Data Engineer   \n",
       "\n",
       "   salary salary_currency  salary_in_usd employee_residence  remote_ratio  \\\n",
       "0   70000             EUR          79833                 DE             0   \n",
       "1  260000             USD         260000                 JP             0   \n",
       "2   85000             GBP         109024                 GB            50   \n",
       "\n",
       "  company_location company_size  \n",
       "0               DE        Large  \n",
       "1               JP        Small  \n",
       "2               GB       Medium  "
      ]
     },
     "execution_count": 11,
     "metadata": {},
     "output_type": "execute_result"
    }
   ],
   "source": [
    "# Display the first few rows to verify the change\n",
    "df.head(3)"
   ]
  },
  {
   "cell_type": "code",
   "execution_count": 12,
   "id": "0cc6130d-fe77-496b-8d2e-1e527e41a582",
   "metadata": {},
   "outputs": [],
   "source": [
    "# change country names from code to original names\n",
    "\n",
    "# !pip install -q country_converter\n",
    "import country_converter\n",
    "cc = country_converter.CountryConverter()\n",
    "\n",
    "df['company_location'] = cc.convert(df['company_location'], to = 'name_short')\n",
    "df['employee_residence'] = cc.convert(df['employee_residence'], to = 'name_short')"
   ]
  },
  {
   "cell_type": "code",
   "execution_count": 13,
   "id": "39cba29d-28b4-4e65-b64d-a99fb9955322",
   "metadata": {},
   "outputs": [
    {
     "data": {
      "text/html": [
       "<div>\n",
       "<style scoped>\n",
       "    .dataframe tbody tr th:only-of-type {\n",
       "        vertical-align: middle;\n",
       "    }\n",
       "\n",
       "    .dataframe tbody tr th {\n",
       "        vertical-align: top;\n",
       "    }\n",
       "\n",
       "    .dataframe thead th {\n",
       "        text-align: right;\n",
       "    }\n",
       "</style>\n",
       "<table border=\"1\" class=\"dataframe\">\n",
       "  <thead>\n",
       "    <tr style=\"text-align: right;\">\n",
       "      <th></th>\n",
       "      <th>work_year</th>\n",
       "      <th>experience_level</th>\n",
       "      <th>employment_type</th>\n",
       "      <th>job_title</th>\n",
       "      <th>salary</th>\n",
       "      <th>salary_currency</th>\n",
       "      <th>salary_in_usd</th>\n",
       "      <th>employee_residence</th>\n",
       "      <th>remote_ratio</th>\n",
       "      <th>company_location</th>\n",
       "      <th>company_size</th>\n",
       "    </tr>\n",
       "  </thead>\n",
       "  <tbody>\n",
       "    <tr>\n",
       "      <th>0</th>\n",
       "      <td>2020</td>\n",
       "      <td>Mid-Level</td>\n",
       "      <td>Full-time</td>\n",
       "      <td>Data Scientist</td>\n",
       "      <td>70000</td>\n",
       "      <td>EUR</td>\n",
       "      <td>79833</td>\n",
       "      <td>Germany</td>\n",
       "      <td>0</td>\n",
       "      <td>Germany</td>\n",
       "      <td>Large</td>\n",
       "    </tr>\n",
       "    <tr>\n",
       "      <th>1</th>\n",
       "      <td>2020</td>\n",
       "      <td>Senior</td>\n",
       "      <td>Full-time</td>\n",
       "      <td>Machine Learning Scientist</td>\n",
       "      <td>260000</td>\n",
       "      <td>USD</td>\n",
       "      <td>260000</td>\n",
       "      <td>Japan</td>\n",
       "      <td>0</td>\n",
       "      <td>Japan</td>\n",
       "      <td>Small</td>\n",
       "    </tr>\n",
       "    <tr>\n",
       "      <th>2</th>\n",
       "      <td>2020</td>\n",
       "      <td>Senior</td>\n",
       "      <td>Full-time</td>\n",
       "      <td>Big Data Engineer</td>\n",
       "      <td>85000</td>\n",
       "      <td>GBP</td>\n",
       "      <td>109024</td>\n",
       "      <td>United Kingdom</td>\n",
       "      <td>50</td>\n",
       "      <td>United Kingdom</td>\n",
       "      <td>Medium</td>\n",
       "    </tr>\n",
       "  </tbody>\n",
       "</table>\n",
       "</div>"
      ],
      "text/plain": [
       "   work_year experience_level employment_type                   job_title  \\\n",
       "0       2020        Mid-Level       Full-time              Data Scientist   \n",
       "1       2020           Senior       Full-time  Machine Learning Scientist   \n",
       "2       2020           Senior       Full-time           Big Data Engineer   \n",
       "\n",
       "   salary salary_currency  salary_in_usd employee_residence  remote_ratio  \\\n",
       "0   70000             EUR          79833            Germany             0   \n",
       "1  260000             USD         260000              Japan             0   \n",
       "2   85000             GBP         109024     United Kingdom            50   \n",
       "\n",
       "  company_location company_size  \n",
       "0          Germany        Large  \n",
       "1            Japan        Small  \n",
       "2   United Kingdom       Medium  "
      ]
     },
     "execution_count": 13,
     "metadata": {},
     "output_type": "execute_result"
    }
   ],
   "source": [
    "# Display the first few rows to verify the change\n",
    "df.head(3)"
   ]
  },
  {
   "cell_type": "code",
   "execution_count": 14,
   "id": "025182b0-97c2-4bb0-bf75-b8e1d253f979",
   "metadata": {},
   "outputs": [],
   "source": [
    "# Replace the values in 'remote_ratio' with corresponding labels\n",
    "df['remote_ratio'] = df['remote_ratio'].replace({0: 'Onsite', 50: 'Hybrid', 100: 'Remote'})"
   ]
  },
  {
   "cell_type": "code",
   "execution_count": 15,
   "id": "88b7a5d4-453c-4c82-8041-38de115fb768",
   "metadata": {},
   "outputs": [
    {
     "data": {
      "text/html": [
       "<div>\n",
       "<style scoped>\n",
       "    .dataframe tbody tr th:only-of-type {\n",
       "        vertical-align: middle;\n",
       "    }\n",
       "\n",
       "    .dataframe tbody tr th {\n",
       "        vertical-align: top;\n",
       "    }\n",
       "\n",
       "    .dataframe thead th {\n",
       "        text-align: right;\n",
       "    }\n",
       "</style>\n",
       "<table border=\"1\" class=\"dataframe\">\n",
       "  <thead>\n",
       "    <tr style=\"text-align: right;\">\n",
       "      <th></th>\n",
       "      <th>work_year</th>\n",
       "      <th>experience_level</th>\n",
       "      <th>employment_type</th>\n",
       "      <th>job_title</th>\n",
       "      <th>salary</th>\n",
       "      <th>salary_currency</th>\n",
       "      <th>salary_in_usd</th>\n",
       "      <th>employee_residence</th>\n",
       "      <th>remote_ratio</th>\n",
       "      <th>company_location</th>\n",
       "      <th>company_size</th>\n",
       "    </tr>\n",
       "  </thead>\n",
       "  <tbody>\n",
       "    <tr>\n",
       "      <th>0</th>\n",
       "      <td>2020</td>\n",
       "      <td>Mid-Level</td>\n",
       "      <td>Full-time</td>\n",
       "      <td>Data Scientist</td>\n",
       "      <td>70000</td>\n",
       "      <td>EUR</td>\n",
       "      <td>79833</td>\n",
       "      <td>Germany</td>\n",
       "      <td>Onsite</td>\n",
       "      <td>Germany</td>\n",
       "      <td>Large</td>\n",
       "    </tr>\n",
       "    <tr>\n",
       "      <th>1</th>\n",
       "      <td>2020</td>\n",
       "      <td>Senior</td>\n",
       "      <td>Full-time</td>\n",
       "      <td>Machine Learning Scientist</td>\n",
       "      <td>260000</td>\n",
       "      <td>USD</td>\n",
       "      <td>260000</td>\n",
       "      <td>Japan</td>\n",
       "      <td>Onsite</td>\n",
       "      <td>Japan</td>\n",
       "      <td>Small</td>\n",
       "    </tr>\n",
       "    <tr>\n",
       "      <th>2</th>\n",
       "      <td>2020</td>\n",
       "      <td>Senior</td>\n",
       "      <td>Full-time</td>\n",
       "      <td>Big Data Engineer</td>\n",
       "      <td>85000</td>\n",
       "      <td>GBP</td>\n",
       "      <td>109024</td>\n",
       "      <td>United Kingdom</td>\n",
       "      <td>Hybrid</td>\n",
       "      <td>United Kingdom</td>\n",
       "      <td>Medium</td>\n",
       "    </tr>\n",
       "  </tbody>\n",
       "</table>\n",
       "</div>"
      ],
      "text/plain": [
       "   work_year experience_level employment_type                   job_title  \\\n",
       "0       2020        Mid-Level       Full-time              Data Scientist   \n",
       "1       2020           Senior       Full-time  Machine Learning Scientist   \n",
       "2       2020           Senior       Full-time           Big Data Engineer   \n",
       "\n",
       "   salary salary_currency  salary_in_usd employee_residence remote_ratio  \\\n",
       "0   70000             EUR          79833            Germany       Onsite   \n",
       "1  260000             USD         260000              Japan       Onsite   \n",
       "2   85000             GBP         109024     United Kingdom       Hybrid   \n",
       "\n",
       "  company_location company_size  \n",
       "0          Germany        Large  \n",
       "1            Japan        Small  \n",
       "2   United Kingdom       Medium  "
      ]
     },
     "execution_count": 15,
     "metadata": {},
     "output_type": "execute_result"
    }
   ],
   "source": [
    "# Display the first few rows to verify the change\n",
    "df.head(3)"
   ]
  },
  {
   "cell_type": "code",
   "execution_count": null,
   "id": "700f8687-ac99-48cf-a6f7-4bb56220415f",
   "metadata": {},
   "outputs": [],
   "source": [
    "# df.columns"
   ]
  },
  {
   "cell_type": "code",
   "execution_count": 16,
   "id": "6e9de02f-584a-46cd-8c3e-dd61fdc845d3",
   "metadata": {},
   "outputs": [],
   "source": [
    "# Drop 'salary' and 'salary_currency' columns\n",
    "\n",
    "df = df.drop(columns=['salary', 'salary_currency'])\n"
   ]
  },
  {
   "cell_type": "code",
   "execution_count": 17,
   "id": "4e9ef868-5fb1-40bd-99fe-3388022a9df1",
   "metadata": {},
   "outputs": [
    {
     "data": {
      "text/html": [
       "<div>\n",
       "<style scoped>\n",
       "    .dataframe tbody tr th:only-of-type {\n",
       "        vertical-align: middle;\n",
       "    }\n",
       "\n",
       "    .dataframe tbody tr th {\n",
       "        vertical-align: top;\n",
       "    }\n",
       "\n",
       "    .dataframe thead th {\n",
       "        text-align: right;\n",
       "    }\n",
       "</style>\n",
       "<table border=\"1\" class=\"dataframe\">\n",
       "  <thead>\n",
       "    <tr style=\"text-align: right;\">\n",
       "      <th></th>\n",
       "      <th>work_year</th>\n",
       "      <th>experience_level</th>\n",
       "      <th>employment_type</th>\n",
       "      <th>job_title</th>\n",
       "      <th>salary_in_usd</th>\n",
       "      <th>employee_residence</th>\n",
       "      <th>remote_ratio</th>\n",
       "      <th>company_location</th>\n",
       "      <th>company_size</th>\n",
       "    </tr>\n",
       "  </thead>\n",
       "  <tbody>\n",
       "    <tr>\n",
       "      <th>0</th>\n",
       "      <td>2020</td>\n",
       "      <td>Mid-Level</td>\n",
       "      <td>Full-time</td>\n",
       "      <td>Data Scientist</td>\n",
       "      <td>79833</td>\n",
       "      <td>Germany</td>\n",
       "      <td>Onsite</td>\n",
       "      <td>Germany</td>\n",
       "      <td>Large</td>\n",
       "    </tr>\n",
       "    <tr>\n",
       "      <th>1</th>\n",
       "      <td>2020</td>\n",
       "      <td>Senior</td>\n",
       "      <td>Full-time</td>\n",
       "      <td>Machine Learning Scientist</td>\n",
       "      <td>260000</td>\n",
       "      <td>Japan</td>\n",
       "      <td>Onsite</td>\n",
       "      <td>Japan</td>\n",
       "      <td>Small</td>\n",
       "    </tr>\n",
       "    <tr>\n",
       "      <th>2</th>\n",
       "      <td>2020</td>\n",
       "      <td>Senior</td>\n",
       "      <td>Full-time</td>\n",
       "      <td>Big Data Engineer</td>\n",
       "      <td>109024</td>\n",
       "      <td>United Kingdom</td>\n",
       "      <td>Hybrid</td>\n",
       "      <td>United Kingdom</td>\n",
       "      <td>Medium</td>\n",
       "    </tr>\n",
       "    <tr>\n",
       "      <th>3</th>\n",
       "      <td>2020</td>\n",
       "      <td>Mid-Level</td>\n",
       "      <td>Full-time</td>\n",
       "      <td>Product Data Analyst</td>\n",
       "      <td>20000</td>\n",
       "      <td>Honduras</td>\n",
       "      <td>Onsite</td>\n",
       "      <td>Honduras</td>\n",
       "      <td>Small</td>\n",
       "    </tr>\n",
       "    <tr>\n",
       "      <th>4</th>\n",
       "      <td>2020</td>\n",
       "      <td>Senior</td>\n",
       "      <td>Full-time</td>\n",
       "      <td>Machine Learning Engineer</td>\n",
       "      <td>150000</td>\n",
       "      <td>United States</td>\n",
       "      <td>Hybrid</td>\n",
       "      <td>United States</td>\n",
       "      <td>Large</td>\n",
       "    </tr>\n",
       "  </tbody>\n",
       "</table>\n",
       "</div>"
      ],
      "text/plain": [
       "   work_year experience_level employment_type                   job_title  \\\n",
       "0       2020        Mid-Level       Full-time              Data Scientist   \n",
       "1       2020           Senior       Full-time  Machine Learning Scientist   \n",
       "2       2020           Senior       Full-time           Big Data Engineer   \n",
       "3       2020        Mid-Level       Full-time        Product Data Analyst   \n",
       "4       2020           Senior       Full-time   Machine Learning Engineer   \n",
       "\n",
       "   salary_in_usd employee_residence remote_ratio company_location company_size  \n",
       "0          79833            Germany       Onsite          Germany        Large  \n",
       "1         260000              Japan       Onsite            Japan        Small  \n",
       "2         109024     United Kingdom       Hybrid   United Kingdom       Medium  \n",
       "3          20000           Honduras       Onsite         Honduras        Small  \n",
       "4         150000      United States       Hybrid    United States        Large  "
      ]
     },
     "execution_count": 17,
     "metadata": {},
     "output_type": "execute_result"
    }
   ],
   "source": [
    "# Display the first few rows to verify the change\n",
    "df.head()"
   ]
  },
  {
   "cell_type": "code",
   "execution_count": 19,
   "id": "20ecdf3e-3616-4717-ba1e-3e1b7df0e88f",
   "metadata": {},
   "outputs": [],
   "source": [
    "# Rename 'salary_in_usd' to 'salary'\n",
    "\n",
    "df = df.rename(columns={'salary_in_usd': 'salary'})"
   ]
  },
  {
   "cell_type": "code",
   "execution_count": 20,
   "id": "8ccbdb1d-bc27-46a2-8a26-4567943a42d2",
   "metadata": {},
   "outputs": [
    {
     "data": {
      "text/html": [
       "<div>\n",
       "<style scoped>\n",
       "    .dataframe tbody tr th:only-of-type {\n",
       "        vertical-align: middle;\n",
       "    }\n",
       "\n",
       "    .dataframe tbody tr th {\n",
       "        vertical-align: top;\n",
       "    }\n",
       "\n",
       "    .dataframe thead th {\n",
       "        text-align: right;\n",
       "    }\n",
       "</style>\n",
       "<table border=\"1\" class=\"dataframe\">\n",
       "  <thead>\n",
       "    <tr style=\"text-align: right;\">\n",
       "      <th></th>\n",
       "      <th>work_year</th>\n",
       "      <th>experience_level</th>\n",
       "      <th>employment_type</th>\n",
       "      <th>job_title</th>\n",
       "      <th>salary</th>\n",
       "      <th>employee_residence</th>\n",
       "      <th>remote_ratio</th>\n",
       "      <th>company_location</th>\n",
       "      <th>company_size</th>\n",
       "    </tr>\n",
       "  </thead>\n",
       "  <tbody>\n",
       "    <tr>\n",
       "      <th>0</th>\n",
       "      <td>2020</td>\n",
       "      <td>Mid-Level</td>\n",
       "      <td>Full-time</td>\n",
       "      <td>Data Scientist</td>\n",
       "      <td>79833</td>\n",
       "      <td>Germany</td>\n",
       "      <td>Onsite</td>\n",
       "      <td>Germany</td>\n",
       "      <td>Large</td>\n",
       "    </tr>\n",
       "    <tr>\n",
       "      <th>1</th>\n",
       "      <td>2020</td>\n",
       "      <td>Senior</td>\n",
       "      <td>Full-time</td>\n",
       "      <td>Machine Learning Scientist</td>\n",
       "      <td>260000</td>\n",
       "      <td>Japan</td>\n",
       "      <td>Onsite</td>\n",
       "      <td>Japan</td>\n",
       "      <td>Small</td>\n",
       "    </tr>\n",
       "    <tr>\n",
       "      <th>2</th>\n",
       "      <td>2020</td>\n",
       "      <td>Senior</td>\n",
       "      <td>Full-time</td>\n",
       "      <td>Big Data Engineer</td>\n",
       "      <td>109024</td>\n",
       "      <td>United Kingdom</td>\n",
       "      <td>Hybrid</td>\n",
       "      <td>United Kingdom</td>\n",
       "      <td>Medium</td>\n",
       "    </tr>\n",
       "    <tr>\n",
       "      <th>3</th>\n",
       "      <td>2020</td>\n",
       "      <td>Mid-Level</td>\n",
       "      <td>Full-time</td>\n",
       "      <td>Product Data Analyst</td>\n",
       "      <td>20000</td>\n",
       "      <td>Honduras</td>\n",
       "      <td>Onsite</td>\n",
       "      <td>Honduras</td>\n",
       "      <td>Small</td>\n",
       "    </tr>\n",
       "    <tr>\n",
       "      <th>4</th>\n",
       "      <td>2020</td>\n",
       "      <td>Senior</td>\n",
       "      <td>Full-time</td>\n",
       "      <td>Machine Learning Engineer</td>\n",
       "      <td>150000</td>\n",
       "      <td>United States</td>\n",
       "      <td>Hybrid</td>\n",
       "      <td>United States</td>\n",
       "      <td>Large</td>\n",
       "    </tr>\n",
       "  </tbody>\n",
       "</table>\n",
       "</div>"
      ],
      "text/plain": [
       "   work_year experience_level employment_type                   job_title  \\\n",
       "0       2020        Mid-Level       Full-time              Data Scientist   \n",
       "1       2020           Senior       Full-time  Machine Learning Scientist   \n",
       "2       2020           Senior       Full-time           Big Data Engineer   \n",
       "3       2020        Mid-Level       Full-time        Product Data Analyst   \n",
       "4       2020           Senior       Full-time   Machine Learning Engineer   \n",
       "\n",
       "   salary employee_residence remote_ratio company_location company_size  \n",
       "0   79833            Germany       Onsite          Germany        Large  \n",
       "1  260000              Japan       Onsite            Japan        Small  \n",
       "2  109024     United Kingdom       Hybrid   United Kingdom       Medium  \n",
       "3   20000           Honduras       Onsite         Honduras        Small  \n",
       "4  150000      United States       Hybrid    United States        Large  "
      ]
     },
     "execution_count": 20,
     "metadata": {},
     "output_type": "execute_result"
    }
   ],
   "source": [
    "# Display the first few rows to verify the change\n",
    "df.head()"
   ]
  },
  {
   "cell_type": "code",
   "execution_count": 21,
   "id": "d27d8283-e497-4330-bc32-7bdf70686454",
   "metadata": {},
   "outputs": [
    {
     "name": "stdout",
     "output_type": "stream",
     "text": [
      "Data Set Shape:  (565, 9)\n",
      "\n",
      "<class 'pandas.core.frame.DataFrame'>\n",
      "Index: 565 entries, 0 to 606\n",
      "Data columns (total 9 columns):\n",
      " #   Column              Non-Null Count  Dtype \n",
      "---  ------              --------------  ----- \n",
      " 0   work_year           565 non-null    int64 \n",
      " 1   experience_level    565 non-null    object\n",
      " 2   employment_type     565 non-null    object\n",
      " 3   job_title           565 non-null    object\n",
      " 4   salary              565 non-null    int64 \n",
      " 5   employee_residence  565 non-null    object\n",
      " 6   remote_ratio        565 non-null    object\n",
      " 7   company_location    565 non-null    object\n",
      " 8   company_size        565 non-null    object\n",
      "dtypes: int64(2), object(7)\n",
      "memory usage: 44.1+ KB\n"
     ]
    }
   ],
   "source": [
    "# Inspect the data again after removing the duplicated rows\n",
    "\n",
    "print(\"Data Set Shape: \",df.shape)\n",
    "print()\n",
    "df.info()"
   ]
  },
  {
   "cell_type": "code",
   "execution_count": null,
   "id": "63750c96-b3f3-4fed-8bea-a676eba71f38",
   "metadata": {},
   "outputs": [],
   "source": [
    "# Display the first few rows to verify the change\n",
    "df"
   ]
  },
  {
   "cell_type": "markdown",
   "id": "329faa0f-c399-4139-9a46-17d30630250a",
   "metadata": {},
   "source": [
    "ANALYSIS"
   ]
  },
  {
   "cell_type": "code",
   "execution_count": 22,
   "id": "302964c0-f020-4a9d-8dcb-f6b55bfd5028",
   "metadata": {},
   "outputs": [
    {
     "data": {
      "text/html": [
       "<div>\n",
       "<style scoped>\n",
       "    .dataframe tbody tr th:only-of-type {\n",
       "        vertical-align: middle;\n",
       "    }\n",
       "\n",
       "    .dataframe tbody tr th {\n",
       "        vertical-align: top;\n",
       "    }\n",
       "\n",
       "    .dataframe thead th {\n",
       "        text-align: right;\n",
       "    }\n",
       "</style>\n",
       "<table border=\"1\" class=\"dataframe\">\n",
       "  <thead>\n",
       "    <tr style=\"text-align: right;\">\n",
       "      <th></th>\n",
       "      <th>employment_type</th>\n",
       "      <th>mean</th>\n",
       "      <th>median</th>\n",
       "      <th>count</th>\n",
       "    </tr>\n",
       "  </thead>\n",
       "  <tbody>\n",
       "    <tr>\n",
       "      <th>0</th>\n",
       "      <td>Contract</td>\n",
       "      <td>184575.00</td>\n",
       "      <td>105000.0</td>\n",
       "      <td>5</td>\n",
       "    </tr>\n",
       "    <tr>\n",
       "      <th>1</th>\n",
       "      <td>Freelance</td>\n",
       "      <td>48000.00</td>\n",
       "      <td>40000.0</td>\n",
       "      <td>4</td>\n",
       "    </tr>\n",
       "    <tr>\n",
       "      <th>2</th>\n",
       "      <td>Full-time</td>\n",
       "      <td>111811.84</td>\n",
       "      <td>100000.0</td>\n",
       "      <td>546</td>\n",
       "    </tr>\n",
       "    <tr>\n",
       "      <th>3</th>\n",
       "      <td>Part-time</td>\n",
       "      <td>33070.50</td>\n",
       "      <td>18817.5</td>\n",
       "      <td>10</td>\n",
       "    </tr>\n",
       "  </tbody>\n",
       "</table>\n",
       "</div>"
      ],
      "text/plain": [
       "  employment_type       mean    median  count\n",
       "0        Contract  184575.00  105000.0      5\n",
       "1       Freelance   48000.00   40000.0      4\n",
       "2       Full-time  111811.84  100000.0    546\n",
       "3       Part-time   33070.50   18817.5     10"
      ]
     },
     "execution_count": 22,
     "metadata": {},
     "output_type": "execute_result"
    }
   ],
   "source": [
    "# Group by 'employment_type' and calculate mean, median, and count for salaries\n",
    "# This will help us understand how salaries vary based on different types of employment (Full-Time, Part-Time, Contract, etc.).\n",
    "# Interpretation: This will show the average salary, median salary, and the number of employees in each employment type.\n",
    "# You can analyze whether certain employment types (e.g., full-time) pay significantly more or less compared to others.\n",
    "\n",
    "salary_by_employment_type = df.groupby('employment_type')['salary'].agg(['mean', 'median', 'count']).reset_index()\n",
    "\n",
    "# Display the result\n",
    "# print(salary_by_employment_type)\n",
    "salary_by_employment_type.round(2)"
   ]
  },
  {
   "cell_type": "code",
   "execution_count": 24,
   "id": "dd378d62-bb1b-47ad-a571-7a7638e6fd4a",
   "metadata": {},
   "outputs": [
    {
     "data": {
      "image/png": "[encoded data removed]",
      "text/plain": [
       "<Figure size 800x800 with 1 Axes>"
      ]
     },
     "metadata": {},
     "output_type": "display_data"
    }
   ],
   "source": [
    "# Pie chart for mean salary by employment type\n",
    "employment_type_means = salary_by_employment_type['mean']  # Mean salary for each employment type\n",
    "employment_labels = salary_by_employment_type['employment_type']  # Employment type labels\n",
    "\n",
    "plt.figure(figsize=(8, 8))\n",
    "plt.pie(employment_type_means, labels=employment_labels, autopct='%1.1f%%', startangle=90)\n",
    "plt.title('Proportion of Mean Salary by Employment Type')\n",
    "plt.show()\n"
   ]
  },
  {
   "cell_type": "code",
   "execution_count": 25,
   "id": "954ec243-ba79-4309-80ff-2e7c7a16d7a6",
   "metadata": {},
   "outputs": [
    {
     "data": {
      "image/png": "[encoded data removed]",
      "text/plain": [
       "<Figure size 1200x600 with 1 Axes>"
      ]
     },
     "metadata": {},
     "output_type": "display_data"
    }
   ],
   "source": [
    "# Melt the DataFrame to have a suitable format for the bar plot\n",
    "salary_melted = salary_by_employment_type.melt(id_vars='employment_type', value_vars=['mean', 'median'], \n",
    "                                                var_name='Salary Type', value_name='Salary')\n",
    "\n",
    "# Create a bar plot\n",
    "plt.figure(figsize=(12, 6))\n",
    "sns.barplot(x='employment_type', y='Salary', hue='Salary Type', data=salary_melted)\n",
    "\n",
    "# Set the title and labels\n",
    "plt.title('Mean and Median Salaries by Employment Type', fontsize=16)\n",
    "plt.xlabel('Employment Type', fontsize=12)\n",
    "plt.ylabel('Salary (USD)', fontsize=12)\n",
    "\n",
    "# Show the plot\n",
    "plt.legend(title='Salary Type')\n",
    "plt.tight_layout()\n",
    "plt.show()\n"
   ]
  },
  {
   "cell_type": "code",
   "execution_count": null,
   "id": "fcf9d5b8-1d36-4373-a741-f3bf0a5872e1",
   "metadata": {},
   "outputs": [],
   "source": [
    "# # Set the figure size\n",
    "# plt.figure(figsize=(10, 6))\n",
    "\n",
    "# # Create a bar plot for the mean salary\n",
    "# sns.barplot(x='employment_type', y='mean', data=salary_by_employment_type)\n",
    "\n",
    "# # Set the title and labels\n",
    "# plt.title('Mean Salary by Employment Type', fontsize=16)\n",
    "# plt.xlabel('Employment Type', fontsize=12)\n",
    "# plt.ylabel('Mean Salary (USD)', fontsize=12)\n",
    "\n",
    "# # Show the plot\n",
    "# plt.show()\n"
   ]
  },
  {
   "cell_type": "code",
   "execution_count": null,
   "id": "89f0a3e6-c285-4be2-8bdc-ba4400f09b7c",
   "metadata": {},
   "outputs": [],
   "source": [
    "# # Create a pivot table to summarize data\n",
    "# pivot_table = df.pivot_table(index='employment_type', columns='experience_level', values='salary', aggfunc='mean')\n",
    "\n",
    "# # Heatmap for salary by employment type and experience level\n",
    "# plt.figure(figsize=(10, 6))\n",
    "# sns.heatmap(pivot_table, annot=True, cmap='coolwarm', fmt=\".0f\")\n",
    "\n",
    "# # Set the title\n",
    "# plt.title('Mean Salary by Employment Type and Experience Level', fontsize=16)\n",
    "\n",
    "# # Show the plot\n",
    "# plt.show()\n"
   ]
  },
  {
   "cell_type": "code",
   "execution_count": null,
   "id": "e3907f0b-aead-4572-a7d5-5e209dd4597b",
   "metadata": {},
   "outputs": [],
   "source": [
    "salary_by_work_year = df.groupby('work_year')['salary'].agg(['mean', 'median', 'count']).reset_index()\n",
    "\n",
    "# Display the result\n",
    "# print(salary_by_employment_type)\n",
    "salary_by_work_year.round(2)"
   ]
  },
  {
   "cell_type": "code",
   "execution_count": null,
   "id": "604e6e49-c4cb-4917-bd90-ee5e43d78bf3",
   "metadata": {},
   "outputs": [],
   "source": [
    "# mean_exp_lv_s = df.groupby('employment_type')['salary'].mean().sort_values()\n",
    "# mean_exp_lv_s.round(2)"
   ]
  },
  {
   "cell_type": "code",
   "execution_count": null,
   "id": "6279602d-db0e-4e34-a167-5f400d41ce25",
   "metadata": {},
   "outputs": [],
   "source": [
    "# Group by 'experience_level' and calculate mean, median, and count for salaries\n",
    "# We'll analyze how salary varies based on experience level (Entry-Level, Mid-Level, Senior, etc.).\n",
    "# Interpretation: This will show the salary distribution across experience levels.\n",
    "# We expect senior-level employees to earn more than entry-level employees.\n",
    "\n",
    "salary_by_experience_level = df.groupby('experience_level')['salary'].agg(['mean', 'median', 'count']).reset_index()\n",
    "\n",
    "# Display the result\n",
    "# print(salary_by_experience)\n",
    "salary_by_experience_level.round(2)"
   ]
  },
  {
   "cell_type": "code",
   "execution_count": null,
   "id": "70772d16-34b7-4c47-82c8-7f698681a4e0",
   "metadata": {},
   "outputs": [],
   "source": [
    "# Group by 'company_size' and calculate mean, median, and count for salaries\n",
    "# Company size might impact salaries as larger companies often have more resources to offer higher salaries.\n",
    "# If your dataset includes a column for company size, you can analyze it like this:\n",
    "# Interpretation: This will reveal whether larger companies pay higher salaries than smaller ones.\n",
    "\n",
    "salary_by_company_size = df.groupby('company_size')['salary'].agg(['mean', 'median', 'count']).reset_index()\n",
    "\n",
    "# Display the result\n",
    "# print(salary_by_company_size)\n",
    "salary_by_company_size.round(2)"
   ]
  },
  {
   "cell_type": "code",
   "execution_count": null,
   "id": "c56acc4c-acde-4835-b76b-f5a0f72efca1",
   "metadata": {},
   "outputs": [],
   "source": [
    "# Group by 'remote_ratio' and calculate mean, median, and count for salaries\n",
    "salary_by_remote_ratio = df.groupby('remote_ratio')['salary'].agg(['mean', 'median', 'count']).reset_index()\n",
    "\n",
    "# Display the result\n",
    "# print(salary_by_remote_ratio)\n",
    "salary_by_remote_ratio.round(2)"
   ]
  },
  {
   "cell_type": "code",
   "execution_count": null,
   "id": "c028c5a8-e7b7-4b40-a26b-cb2c8efb093e",
   "metadata": {},
   "outputs": [],
   "source": [
    "# Group by job title and calculate the mean salary, then sort by mean salary in descending order\n",
    "# find the top 10 job titles with the highest average salaries:\n",
    "# Interpretation: This will show the top 10 job titles that have the highest average salary.\n",
    "# You can analyze which roles tend to pay the most.\n",
    "\n",
    "top_10_highest_paid = df.groupby('job_title')['salary'].mean().sort_values(ascending=False).head(10).reset_index()\n",
    "\n",
    "# Display the result\n",
    "top_10_highest_paid.round(2)\n"
   ]
  },
  {
   "cell_type": "code",
   "execution_count": null,
   "id": "910842ea-9c8b-4556-a46c-1e10f99e0a3e",
   "metadata": {},
   "outputs": [],
   "source": [
    "salary_by_job_title = df.groupby('job_title')['salary'].agg(['mean', 'median', 'count']).reset_index()\n",
    "salary_by_job_title.round(2)"
   ]
  },
  {
   "cell_type": "code",
   "execution_count": null,
   "id": "52e3f8f1-beb5-4337-9c71-65ff290133c8",
   "metadata": {},
   "outputs": [],
   "source": [
    "# Group by company location and calculate the mean and median salary\n",
    "# Look at how salaries vary by location:\n",
    "\n",
    "salary_by_location = df.groupby('company_location')['salary'].agg(['mean', 'median', 'count']).reset_index()\n",
    "\n",
    "# Display the result\n",
    "salary_by_location"
   ]
  },
  {
   "cell_type": "code",
   "execution_count": null,
   "id": "5a0f955e-4644-4328-b2e9-00ded692a0eb",
   "metadata": {},
   "outputs": [],
   "source": [
    "# # Check the correlation 'work_year' with salary to see if there's a relationship\n",
    "# # Calculate correlation matrix for numerical columns\n",
    "# numeric_df = df.select_dtypes(include=['number'])\n",
    "\n",
    "# correlation_matrix = df.corr()\n",
    "\n",
    "# # Display the correlation matrix\n",
    "# correlation_matrix\n"
   ]
  },
  {
   "cell_type": "code",
   "execution_count": null,
   "id": "6d246fc6-caab-4ab9-b510-3b759d2899c4",
   "metadata": {},
   "outputs": [],
   "source": [
    "# Visualize salary by employment type\n",
    "plt.figure(figsize=(8, 6))\n",
    "sns.barplot(x='employment_type', y='mean', data=salary_by_employment_type)\n",
    "plt.title('Mean Salary by Employment Type')\n",
    "plt.show()\n",
    "\n",
    "# Visualize salary by experience level\n",
    "plt.figure(figsize=(8, 6))\n",
    "sns.barplot(x='experience_level', y='mean', data=salary_by_experience_level)\n",
    "plt.title('Mean Salary by Experience Level')\n",
    "plt.show()\n"
   ]
  },
  {
   "cell_type": "code",
   "execution_count": null,
   "id": "ae4ad745-94e6-46c7-8bbd-49792dea2427",
   "metadata": {},
   "outputs": [],
   "source": [
    "# # Show summary of cleaning results\n",
    "# df.head(), missing_values [['job_title', 'salary_in_usd']]\n",
    "df_new = df.groupby(['job_title']).mean()\n",
    "df_new"
   ]
  },
  {
   "cell_type": "code",
   "execution_count": null,
   "id": "35a5e142-d775-43cf-a448-8f1b82e72845",
   "metadata": {},
   "outputs": [],
   "source": [
    "sns.pairplot(df)"
   ]
  },
  {
   "cell_type": "code",
   "execution_count": null,
   "id": "78758d93-7492-4ba9-8a15-88e9cc8b80a0",
   "metadata": {},
   "outputs": [],
   "source": [
    "# data = df.groupby('job_title')['salary'].mean()\n",
    "# data.round(2)"
   ]
  },
  {
   "cell_type": "code",
   "execution_count": null,
   "id": "977433c7-dbcb-48c5-a209-ff73a146df67",
   "metadata": {},
   "outputs": [],
   "source": [
    "# def bar_chart(feature):\n",
    "#     survived = train[train['Survived']==1][feature].value_counts()\n",
    "#     dead = train[train['Survived']==0][feature].value_counts()\n",
    "#     df = pd.DataFrame([survived,dead])\n",
    "#     df.index = ['Survived','Dead']\n",
    "#     df.plot(kind='bar',stacked=True, figsize=(10,5))"
   ]
  }
 ],
 "metadata": {
  "kernelspec": {
   "display_name": "Python 3 (ipykernel)",
   "language": "python",
   "name": "python3"
  },
  "language_info": {
   "codemirror_mode": {
    "name": "ipython",
    "version": 3
   },
   "file_extension": ".py",
   "mimetype": "text/x-python",
   "name": "python",
   "nbconvert_exporter": "python",
   "pygments_lexer": "ipython3",
   "version": "3.12.4"
  }
 },
 "nbformat": 4,
 "nbformat_minor": 5
}
